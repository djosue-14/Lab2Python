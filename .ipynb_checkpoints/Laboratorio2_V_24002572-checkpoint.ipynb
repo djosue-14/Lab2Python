{
 "cells": [
  {
   "cell_type": "markdown",
   "id": "053f2d90-04b0-4dd2-bf93-ccc62112c5a3",
   "metadata": {
    "tags": []
   },
   "source": [
    "# Parte #1"
   ]
  },
  {
   "cell_type": "markdown",
   "id": "bfc8f62e-be58-4b57-8b8a-d5bb333d83ec",
   "metadata": {
    "jp-MarkdownHeadingCollapsed": true,
    "tags": []
   },
   "source": [
    "### Ejercicio 1."
   ]
  },
  {
   "cell_type": "code",
   "execution_count": null,
   "id": "5d4cb4de-ceb1-46d2-ac6c-9aeb4acc8cf8",
   "metadata": {
    "tags": []
   },
   "outputs": [],
   "source": [
    "import math\n",
    "\n",
    "def segundos_a_horas(secs):\n",
    "    try:\n",
    "        horas = math.floor(secs / 3600)\n",
    "        minutos = math.floor(secs % 3600 / 60)\n",
    "        segundos = math.floor(secs % 3600 % 60)\n",
    "\n",
    "        resultado = f\"Horas: {horas}, Minutos: {minutos}, Segundos: {segundos}\"\n",
    "        print(resultado)\n",
    "    except Exception as ex:\n",
    "        print(f\"ERROR - {ex}\")"
   ]
  },
  {
   "cell_type": "code",
   "execution_count": null,
   "id": "b8d3b6f0-fc12-4beb-85ef-05be0906cd6b",
   "metadata": {
    "tags": []
   },
   "outputs": [],
   "source": [
    "segundos_a_horas(5871)"
   ]
  },
  {
   "cell_type": "markdown",
   "id": "d1780e72-b491-4d1a-9311-73a9df7397ff",
   "metadata": {
    "jp-MarkdownHeadingCollapsed": true,
    "tags": []
   },
   "source": [
    "### Ejercicio 2."
   ]
  },
  {
   "cell_type": "code",
   "execution_count": null,
   "id": "90867965-bd94-491c-a5b9-0ec47d8cdd65",
   "metadata": {
    "tags": []
   },
   "outputs": [],
   "source": [
    "def imprimir_patrones(num, simbolo):\n",
    "    try:\n",
    "        # No se toma en cuenta 1 y 20 debido a que se pide que este entre 1 y 20\n",
    "        if num > 1 and num < 20:\n",
    "            lista = ['*' * i for i in range(1, num + 1)]\n",
    "\n",
    "            #Patron 1\n",
    "            for i in lista:\n",
    "                print(i)\n",
    "            print(\"\")\n",
    "            \n",
    "            #Patron 2\n",
    "            for i in lista[::-1]:\n",
    "                print(i.rjust(num, \" \"))\n",
    "            print(\"\")\n",
    "            \n",
    "            #Patron 3\n",
    "            for i in lista[::-1]:\n",
    "                print(i.center(num, \" \"))\n",
    "            print(\"\")\n",
    "            \n",
    "            #Patron 4\n",
    "            for index, value in enumerate(lista):\n",
    "                if index < (num / 2):\n",
    "                    print(value.center(num, \" \"))\n",
    "                else:\n",
    "                    print(value.ljust(num, \" \"))\n",
    "        else:\n",
    "            print(\"El número debe estar entre el rango de 1 y 20\")\n",
    "    except Exception as ex:\n",
    "        print(f\"ERROR - {ex}\")"
   ]
  },
  {
   "cell_type": "code",
   "execution_count": null,
   "id": "5d6ac8a5-b3d4-4982-8799-5841932692a8",
   "metadata": {
    "tags": []
   },
   "outputs": [],
   "source": [
    "imprimir_patrones(5,\"*\")"
   ]
  },
  {
   "cell_type": "markdown",
   "id": "19738c34-5903-431f-9e73-a3dedfe6f11c",
   "metadata": {
    "jp-MarkdownHeadingCollapsed": true,
    "tags": []
   },
   "source": [
    "### Ejercicio 3."
   ]
  },
  {
   "cell_type": "code",
   "execution_count": null,
   "id": "78de510b-2177-415c-a66b-dcfa4b4d6ea0",
   "metadata": {
    "tags": []
   },
   "outputs": [],
   "source": [
    "import datetime\n",
    "import calendar\n",
    "\n",
    "def calcular_edad():\n",
    "    try:\n",
    "        fecha_actual = datetime.datetime.now()\n",
    "        \n",
    "        dia = int(input(\"Ingrese el día: \"))\n",
    "        \n",
    "        mes = int(input(\"Ingrese el mes: \"))\n",
    "        \n",
    "        anio = int(input(\"Ingrese el año: \"))\n",
    "            \n",
    "        fecha_nacimiento = datetime.datetime(anio, mes, dia)\n",
    "        \n",
    "        anios_calculados = fecha_actual.year - fecha_nacimiento.year;\n",
    "        \n",
    "        meses_calculados = 0\n",
    "        dias_calculados = 0\n",
    "        ultimo_dia_mes = 0\n",
    "        \n",
    "        \n",
    "        # Mes actual menor al mes de nacimiento.\n",
    "        if fecha_actual.month < fecha_nacimiento.month:\n",
    "            anios_calculados = anios_calculados - 1\n",
    "            meses_calculados = (12 - fecha_nacimiento.month) + fecha_actual.month\n",
    "            \n",
    "            if fecha_actual.day < fecha_nacimiento.day:\n",
    "                meses_calculados = meses_calculados - 1\n",
    "                ultimo_dia_mes = calendar.monthrange(fecha_actual.year, fecha_actual.month - 1)[1]\n",
    "                dias_calculados = (ultimo_dia_mes - fecha_nacimiento.day) + fecha_actual.day\n",
    "            else:\n",
    "                dias_calculados = fecha_actual.day - fecha_nacimiento.day\n",
    "                 \n",
    "        # Mes actual y mes de nacimiento son iguales.\n",
    "        elif fecha_actual.month == fecha_nacimiento.month:\n",
    "            # Dias del mes actual menores a los dias de la fecha nacimiento\n",
    "            if fecha_actual.day < fecha_nacimiento.day:\n",
    "                meses_calculados = fecha_actual.month - 1\n",
    "                dias_calculados = fecha_actual.day\n",
    "            else:  \n",
    "                dias_calculados = fecha_actual.day - fecha_nacimiento.day\n",
    "         \n",
    "        # Las otras condiciones\n",
    "        else:            \n",
    "            meses_calculados = fecha_actual.month - fecha_nacimiento.month\n",
    "            \n",
    "            if meses_calculados == 1:\n",
    "                if fecha_actual.day < fecha_nacimiento.day:\n",
    "                    meses_calculados = 0\n",
    "                    ultimo_dia_mes = calendar.monthrange(fecha_actual.year, fecha_nacimiento.month)[1]\n",
    "                    dias_calculados = (ultimo_dia_mes - fecha_nacimiento.day) + fecha_actual.day\n",
    "                else:\n",
    "                    dias_calculados = fecha_actual.day - fecha_nacimiento.day\n",
    "                    \n",
    "            else:\n",
    "                if fecha_actual.day < fecha_nacimiento.day:\n",
    "                    meses_calculados = meses_calculados - 1\n",
    "                    ultimo_dia_mes = calendar.monthrange(fecha_actual.year, fecha_actual.month - 1)[1]\n",
    "                    dias_calculados = (ultimo_dia_mes - fecha_nacimiento.day) + fecha_actual.day\n",
    "                else:\n",
    "                    dias_calculados = fecha_actual.day - fecha_nacimiento.day\n",
    "  \n",
    "        print(f\"La fecha de nacimiento: {fecha_nacimiento.date()} y fecha actual: {fecha_actual.date()}\")\n",
    "        \n",
    "        print(f\"La edad es: {anios_calculados} años, {meses_calculados} meses y {dias_calculados} días\")\n",
    "        \n",
    "    except Exception as ex:\n",
    "        print(f\"ERROR - {ex}\")"
   ]
  },
  {
   "cell_type": "code",
   "execution_count": null,
   "id": "bf214e13-f553-4f2d-bb70-9d3cd4c72012",
   "metadata": {
    "tags": []
   },
   "outputs": [],
   "source": [
    "calcular_edad()"
   ]
  },
  {
   "cell_type": "markdown",
   "id": "42a8ebbd-0006-477c-b6bc-afb1937931bf",
   "metadata": {
    "jp-MarkdownHeadingCollapsed": true,
    "tags": []
   },
   "source": [
    "### Ejercicio 4."
   ]
  },
  {
   "cell_type": "code",
   "execution_count": null,
   "id": "bc83d07f-5ed5-4b47-aa98-468a9d281f2c",
   "metadata": {
    "tags": []
   },
   "outputs": [],
   "source": [
    "def tupla_a_string(tupla):\n",
    "    try:\n",
    "        valor = \"\"\n",
    "        for i in tupla:\n",
    "            valor += str(i)\n",
    "        print(valor)\n",
    "    except Exception as ex:\n",
    "        print(f\"ERROR - {ex}\")"
   ]
  },
  {
   "cell_type": "code",
   "execution_count": null,
   "id": "380b4376-6280-4463-9abd-0c1542f326a6",
   "metadata": {
    "tags": []
   },
   "outputs": [],
   "source": [
    "tupla_a_string((10, 20, 40, 5, 'AB'))"
   ]
  },
  {
   "cell_type": "markdown",
   "id": "85d07b30-6f8f-4150-a3f5-4e467b3ea41a",
   "metadata": {
    "jp-MarkdownHeadingCollapsed": true,
    "tags": []
   },
   "source": [
    "### Ejercicio 5."
   ]
  },
  {
   "cell_type": "code",
   "execution_count": null,
   "id": "7f740e96-b231-4d58-a371-5c6a71a801f2",
   "metadata": {
    "tags": []
   },
   "outputs": [],
   "source": [
    "def eliminar_tupla_vacia(lista):\n",
    "    try:\n",
    "        result = []\n",
    "        for i in lista:\n",
    "            if len(i) > 0:\n",
    "                result.append(i)\n",
    "        print(result)\n",
    "    except Exception as ex:\n",
    "        print(f\"ERROR - {ex}\")"
   ]
  },
  {
   "cell_type": "code",
   "execution_count": null,
   "id": "ef15c317-5da6-4394-b67e-3e35378c4516",
   "metadata": {
    "tags": []
   },
   "outputs": [],
   "source": [
    "eliminar_tupla_vacia([(), (), ('X',), ('a', 'b'), ('a', 'b', 'c'), ('d')])"
   ]
  },
  {
   "cell_type": "markdown",
   "id": "2d122a60-58e7-4a9d-be90-30b03266d749",
   "metadata": {
    "jp-MarkdownHeadingCollapsed": true,
    "tags": []
   },
   "source": [
    "### Ejercicio 6."
   ]
  },
  {
   "cell_type": "code",
   "execution_count": null,
   "id": "b63decf0-b849-4125-bb98-518c4b0aa071",
   "metadata": {
    "tags": []
   },
   "outputs": [],
   "source": [
    "def promedio_tuplas(tuplas):\n",
    "    try:\n",
    "        result = tuple([sum(i)/len(i) for i in tuplas])\n",
    "        print(result)\n",
    "    except Exception as ex:\n",
    "        print(f\"ERROR - {ex}\")"
   ]
  },
  {
   "cell_type": "code",
   "execution_count": null,
   "id": "d1b48813-97a8-4d4a-aeb7-a2a7389dfdce",
   "metadata": {
    "tags": []
   },
   "outputs": [],
   "source": [
    "promedio_tuplas(((10, 10, 10, 12), (30, 45, 56, 45), (81, 80, 39, 32)));"
   ]
  },
  {
   "cell_type": "markdown",
   "id": "3c144d15-ad53-4858-8c26-665199f87c3b",
   "metadata": {
    "jp-MarkdownHeadingCollapsed": true,
    "tags": []
   },
   "source": [
    "### Ejercicio 7."
   ]
  },
  {
   "cell_type": "code",
   "execution_count": null,
   "id": "d78fe887-d696-4d54-89ef-8e48ef672a2c",
   "metadata": {
    "tags": []
   },
   "outputs": [],
   "source": [
    "facturas_x_cobrar = {}\n",
    "facturas_cobradas = {}"
   ]
  },
  {
   "cell_type": "code",
   "execution_count": null,
   "id": "013f60a0-689f-4000-9f2c-d61f51daa1bc",
   "metadata": {
    "tags": []
   },
   "outputs": [],
   "source": [
    "def ingresar_facturas(num_factura, valor):\n",
    "    try:\n",
    "        if num_factura >= 1000 and num_factura < 10000:\n",
    "            facturas_x_cobrar[num_factura] = valor\n",
    "            print(\"Facturas por Cobrar:\", facturas_x_cobrar)\n",
    "        else:\n",
    "            print(\"Número de factura no valido\")\n",
    "    except Exception as ex:\n",
    "        print(f\"ERROR - {ex}\")"
   ]
  },
  {
   "cell_type": "code",
   "execution_count": null,
   "id": "bc19f21a-7b3c-4963-834a-1293d7dabeae",
   "metadata": {
    "tags": []
   },
   "outputs": [],
   "source": [
    "def ingresa_pago_factura(num_factura):\n",
    "    try:\n",
    "        if num_factura in facturas_x_cobrar:\n",
    "            facturas_cobradas[num_factura] = facturas_x_cobrar[num_factura]\n",
    "            del facturas_x_cobrar[num_factura]\n",
    "            print(\"Facturas Cobradas:\",facturas_cobradas)\n",
    "        else:\n",
    "            print(\"No existe factura para el número ingresado\")\n",
    "    except Exception as ex:\n",
    "        print(f\"ERROR - {ex}\")"
   ]
  },
  {
   "cell_type": "code",
   "execution_count": null,
   "id": "3005c58e-117d-45b7-af16-06d18d085743",
   "metadata": {
    "tags": []
   },
   "outputs": [],
   "source": [
    "def opciones_factura():\n",
    "    try:\n",
    "        saldo_x_cobrar = 0;\n",
    "        saldo_cobrado = 0;\n",
    "        \n",
    "        print(\"Qué desea realizar?\")\n",
    "        print(\"1. Ingreso de Factura\")\n",
    "        print(\"2. Pago de Factura\")\n",
    "        print(\"3. Salir\")\n",
    "            \n",
    "            #for value in facturas_cobradas.values():\n",
    "             #   saldo_x_cobrar += value\n",
    "        \n",
    "        opcion = int(input(\"Ingrese la opción:\"))\n",
    "        \n",
    "        if opcion > 0 and opcion < 4:\n",
    "            if opcion == 1:\n",
    "                num_factura = int(input(\"Ingrese el número de factura: \"))\n",
    "                valor = float(input(\"Ingrese el valor: \"))\n",
    "                \n",
    "                ingresar_facturas(num_factura, valor)\n",
    "                \n",
    "                #saldo_x_cobrar = sum(valor for valor in facturas_x_cobrar.values())\n",
    "            elif opcion == 2:\n",
    "                num_factura = int(input(\"Ingrese el número de factura: \"))\n",
    "                ingresa_pago_factura(num_factura)\n",
    "            else:\n",
    "                print(\"Has salido del programa\")\n",
    "            \n",
    "            saldo_x_cobrar = sum(valor for valor in facturas_x_cobrar.values())\n",
    "            saldo_cobrado = sum(valor for valor in facturas_cobradas.values())\n",
    "            print(\"Saldo Por Cobrar:\", saldo_x_cobrar)\n",
    "            print(\"Saldo Cobrado:\", saldo_cobrado)\n",
    "        else:\n",
    "            print(\"La opción ingresada no es valida\")\n",
    "    except Exception as ex:\n",
    "        print(f\"Error - {ex}\")"
   ]
  },
  {
   "cell_type": "code",
   "execution_count": null,
   "id": "bc4e6390-22f3-44cc-9bc7-cfda5292c1fe",
   "metadata": {
    "tags": []
   },
   "outputs": [],
   "source": [
    "opciones_factura()"
   ]
  },
  {
   "cell_type": "markdown",
   "id": "0edf8db9-d10c-4993-a7ef-698b8af91efa",
   "metadata": {
    "jp-MarkdownHeadingCollapsed": true,
    "tags": []
   },
   "source": [
    "### Ejercicio 8."
   ]
  },
  {
   "cell_type": "code",
   "execution_count": null,
   "id": "4be8f18c-f2f6-4ba6-97e7-930295d78d36",
   "metadata": {
    "tags": []
   },
   "outputs": [],
   "source": [
    "def cartas_poker():\n",
    "    try:\n",
    "        cojunto_poker = set()\n",
    "        letras = ['T', 'C', 'P', 'E']\n",
    "        for letra in letras:\n",
    "            for num in range(1, 14):\n",
    "                if num < 10:\n",
    "                    cojunto_poker.add(letra + '0' + str(num))\n",
    "                else:\n",
    "                    cojunto_poker.add(letra + str(num))\n",
    "        return cojunto_poker\n",
    "    except Exception as ex:\n",
    "        print(f\"ERROR - {ex}\")"
   ]
  },
  {
   "cell_type": "code",
   "execution_count": null,
   "id": "d6d193b9-b3ac-4434-a657-66eb3c5b204d",
   "metadata": {
    "tags": []
   },
   "outputs": [],
   "source": [
    "import random\n",
    "\n",
    "def crear_dos_conjuntos(conjunto_original):\n",
    "    try:\n",
    "        lista = list(conjunto_original)\n",
    "        \n",
    "        random.shuffle(lista)\n",
    "        num_elementos = random.randint(0, len(lista))        \n",
    "        subconjunto1 = set(random.sample(lista, num_elementos))\n",
    "        \n",
    "        random.shuffle(lista)\n",
    "        num_elementos = random.randint(1, len(lista))\n",
    "        subconjunto2 = set(random.sample(lista, num_elementos))\n",
    "        return subconjunto1, subconjunto2\n",
    "    except Exception as ex:\n",
    "        print(f\"ERROR - {ex}\")"
   ]
  },
  {
   "cell_type": "code",
   "execution_count": null,
   "id": "a4e6302f-cdc3-476e-8712-a10ec761f526",
   "metadata": {
    "tags": []
   },
   "outputs": [],
   "source": [
    "def probabilidad_interseccion(conjunto_original, subconjunto1, subconjunto2):\n",
    "    try:\n",
    "        interseccion = subconjunto1.intersection(subconjunto2)\n",
    "        cardinalidad = len(conjunto_original)\n",
    "        cardinalidad_interseccion = len(interseccion)\n",
    "        probabilidad_interseccion = cardinalidad_interseccion/cardinalidad\n",
    "        probabilidad_a = len(subconjunto1) / cardinalidad\n",
    "        probabilidad_b = len(subconjunto2) / cardinalidad\n",
    "        probabilidad = probabilidad_a * probabilidad_b\n",
    "        \n",
    "        print(f\"Subconjunto 1: {subconjunto1}\")\n",
    "        print(f\"Subconjunto 2: {subconjunto2}\")\n",
    "        print(f\"Intersección: {interseccion}\")\n",
    "        \n",
    "        print(\"PROBABILIDAD DE LA INTERSECCIÓN\")\n",
    "        print(\"---------------------------------\")\n",
    "        print(f\"P(A∩B) = {cardinalidad_interseccion}/{cardinalidad}\")\n",
    "        print(f\"P(A∩B) = {probabilidad_interseccion}\")\n",
    "        print(\"---------------------------------\")\n",
    "        print(f\"P(A∩B) = P(A)×P(B)\")\n",
    "        print(f\"P(A∩B) = ({len(subconjunto1)}/{len(conjunto_original)}) × ({len(subconjunto2)}/{cardinalidad})\")\n",
    "        print(f\"P(A∩B) = {probabilidad_a} x {probabilidad_b}\")\n",
    "        print(f\"P(A∩B) = {probabilidad}\")\n",
    "        print(\"---------------------------------\")\n",
    "        \n",
    "        if probabilidad_interseccion == probabilidad:\n",
    "            print(\"Si son independientes\")\n",
    "        else:\n",
    "            print(\"No son independientes\")\n",
    "    except Exception as ex:\n",
    "        print(f\"ERROR - {ex}\")"
   ]
  },
  {
   "cell_type": "code",
   "execution_count": null,
   "id": "b1874ed5-3b14-4ead-b917-11f7d0b01746",
   "metadata": {
    "tags": []
   },
   "outputs": [],
   "source": [
    "def probabilidad_union(conjunto, subconjunto1, subconjunto2):\n",
    "    try:\n",
    "        union = subconjunto1.union(subconjunto2)\n",
    "        cardinalidad = len(conjunto)\n",
    "        cardinalidad_union = len(union)\n",
    "        \n",
    "        interseccion = subconjunto1.intersection(subconjunto2)\n",
    "        cardinalidad_interseccion = len(interseccion)\n",
    "        \n",
    "        probabilidad_a = len(subconjunto1)/cardinalidad\n",
    "        probabilidad_b = len(subconjunto2)/cardinalidad\n",
    "        probabilidad_interseccion = cardinalidad_interseccion/cardinalidad\n",
    "        probabilidad = probabilidad_a + probabilidad_b - probabilidad_interseccion\n",
    "        \n",
    "        print(\"---------------------------------\")\n",
    "        print(\"PROBABILIDAD DE LA UNION\")\n",
    "        print(\"---------------------------------\")\n",
    "        print(\"P(A∪B) = P(A) + P(B) - P(A∩B)\")\n",
    "        print(f\"P(A∪B) = ({len(subconjunto1)}/{cardinalidad}) + ({len(subconjunto2)}/{cardinalidad}) - ({cardinalidad_interseccion}/{cardinalidad})\")\n",
    "        print(f\"P(A∪B) = {probabilidad_a} + {probabilidad_b} - {probabilidad_interseccion}\")\n",
    "        print(f\"P(A∪B) = {probabilidad}\")\n",
    "    except Exception as ex:\n",
    "        print(f\"ERROR - {ex}\")"
   ]
  },
  {
   "cell_type": "code",
   "execution_count": null,
   "id": "b35f719a-e211-48cf-ae87-3f52f7f1910e",
   "metadata": {
    "tags": []
   },
   "outputs": [],
   "source": [
    "conjunto = cartas_poker()\n",
    "subconjunto1, subconjunto2 = crear_dos_conjuntos(conjunto)\n",
    "probabilidad_interseccion(conjunto, subconjunto1, subconjunto2)\n",
    "probabilidad_union(conjunto, subconjunto1, subconjunto2)"
   ]
  }
 ],
 "metadata": {
  "kernelspec": {
   "display_name": "Python 3 (ipykernel)",
   "language": "python",
   "name": "python3"
  },
  "language_info": {
   "codemirror_mode": {
    "name": "ipython",
    "version": 3
   },
   "file_extension": ".py",
   "mimetype": "text/x-python",
   "name": "python",
   "nbconvert_exporter": "python",
   "pygments_lexer": "ipython3",
   "version": "3.11.5"
  }
 },
 "nbformat": 4,
 "nbformat_minor": 5
}
